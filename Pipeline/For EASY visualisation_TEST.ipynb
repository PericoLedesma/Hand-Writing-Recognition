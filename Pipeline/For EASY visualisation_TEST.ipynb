{
 "cells": [
  {
   "cell_type": "markdown",
   "id": "3fb8ba82",
   "metadata": {},
   "source": [
    "### LIBRARIES"
   ]
  },
  {
   "cell_type": "code",
   "execution_count": 1,
   "id": "21441149",
   "metadata": {},
   "outputs": [
    {
     "name": "stdout",
     "output_type": "stream",
     "text": [
      "/Users/pedrorodriguezdeledesmajimenez/CodingProjects/RUG_HandWriting Recognition Project/HR-task\n"
     ]
    },
    {
     "name": "stderr",
     "output_type": "stream",
     "text": [
      "/var/folders/84/30xykzzd0j76nnvkrz8wmqw40000gn/T/ipykernel_87239/2676562888.py:8: DeprecationWarning: Please use `gaussian_filter` from the `scipy.ndimage` namespace, the `scipy.ndimage.filters` namespace is deprecated.\n",
      "  from scipy.ndimage.filters import gaussian_filter\n"
     ]
    }
   ],
   "source": [
    "# Functions from other py files\n",
    "from read_data import *\n",
    "from line_segmentation import *\n",
    "\n",
    "# Libraries\n",
    "from pathlib import Path\n",
    "import cv2 as cv\n",
    "from scipy.ndimage.filters import gaussian_filter\n",
    "from scipy.signal import argrelmin,argrelmax\n",
    "import pandas as pd\n",
    "\n",
    "# Parent folder. The data is not in the GitHub folder, should be localy in previously\n",
    "parent_folder_path = Path(os.path.dirname(os.path.abspath('')))\n",
    "print(parent_folder_path)"
   ]
  },
  {
   "cell_type": "markdown",
   "id": "144e3df3",
   "metadata": {},
   "source": [
    "### RUN"
   ]
  },
  {
   "cell_type": "code",
   "execution_count": 2,
   "id": "a4445535",
   "metadata": {},
   "outputs": [
    {
     "name": "stdout",
     "output_type": "stream",
     "text": [
      "Reading images...\n",
      "\tImage 0 : P123-Fg001-R-C01-R01-binarized.jpg\n",
      "\tNumber of images read:  1\n",
      "* Done reading images.\n"
     ]
    }
   ],
   "source": [
    "# READ DATA\n",
    "data_SCROLLS = Read_inputs_pipeline('./Pipeline_inputs/') # From the file Pipeline_inputs"
   ]
  },
  {
   "cell_type": "code",
   "execution_count": 3,
   "id": "a630c90c",
   "metadata": {},
   "outputs": [
    {
     "name": "stdout",
     "output_type": "stream",
     "text": [
      "0\n"
     ]
    }
   ],
   "source": [
    "for image_i in data_SCROLLS['number']:\n",
    "    print(image_i)"
   ]
  },
  {
   "cell_type": "code",
   "execution_count": 4,
   "id": "48b4fa45",
   "metadata": {},
   "outputs": [
    {
     "ename": "IndexError",
     "evalue": "list index out of range",
     "output_type": "error",
     "traceback": [
      "\u001b[0;31m---------------------------------------------------------------------------\u001b[0m",
      "\u001b[0;31mIndexError\u001b[0m                                Traceback (most recent call last)",
      "Input \u001b[0;32mIn [4]\u001b[0m, in \u001b[0;36m<cell line: 3>\u001b[0;34m()\u001b[0m\n\u001b[1;32m      1\u001b[0m image_i \u001b[38;5;241m=\u001b[39m \u001b[38;5;241m2\u001b[39m\n\u001b[1;32m      2\u001b[0m fig \u001b[38;5;241m=\u001b[39m plt\u001b[38;5;241m.\u001b[39mfigure(figsize\u001b[38;5;241m=\u001b[39m(\u001b[38;5;241m15\u001b[39m, \u001b[38;5;241m7\u001b[39m))\n\u001b[0;32m----> 3\u001b[0m plt\u001b[38;5;241m.\u001b[39mimshow(\u001b[43mdata_SCROLLS\u001b[49m\u001b[43m[\u001b[49m\u001b[38;5;124;43m'\u001b[39;49m\u001b[38;5;124;43mimage\u001b[39;49m\u001b[38;5;124;43m'\u001b[39;49m\u001b[43m]\u001b[49m\u001b[43m[\u001b[49m\u001b[43mimage_i\u001b[49m\u001b[43m]\u001b[49m, cmap\u001b[38;5;241m=\u001b[39m\u001b[38;5;124m'\u001b[39m\u001b[38;5;124mgray\u001b[39m\u001b[38;5;124m'\u001b[39m)\n\u001b[1;32m      4\u001b[0m plt\u001b[38;5;241m.\u001b[39mshow()\n",
      "\u001b[0;31mIndexError\u001b[0m: list index out of range"
     ]
    },
    {
     "data": {
      "text/plain": [
       "<Figure size 1080x504 with 0 Axes>"
      ]
     },
     "metadata": {},
     "output_type": "display_data"
    }
   ],
   "source": [
    "image_i = 2\n",
    "fig = plt.figure(figsize=(15, 7))\n",
    "plt.imshow(data_SCROLLS['image'][image_i], cmap='gray')\n",
    "plt.show()"
   ]
  },
  {
   "cell_type": "code",
   "execution_count": null,
   "id": "ee4b8aed",
   "metadata": {},
   "outputs": [],
   "source": [
    "data_SCROLLS['image'][image_i].shape"
   ]
  },
  {
   "cell_type": "code",
   "execution_count": null,
   "id": "2234e834",
   "metadata": {},
   "outputs": [],
   "source": [
    "img = data_SCROLLS['image'][image_i]"
   ]
  },
  {
   "cell_type": "code",
   "execution_count": null,
   "id": "476c9983",
   "metadata": {},
   "outputs": [],
   "source": [
    "# Get density for each y-slice by sum all the pixel values\n",
    "mask = np.full(img.shape, 255)\n",
    "mod_img = mask - img\n",
    "img_inverse = mod_img.astype(np.int64)"
   ]
  },
  {
   "cell_type": "code",
   "execution_count": null,
   "id": "10024732",
   "metadata": {},
   "outputs": [],
   "source": [
    "fig = plt.figure(figsize=(15, 7))\n",
    "plt.imshow(img_inverse, cmap='gray')\n",
    "plt.show()"
   ]
  },
  {
   "cell_type": "code",
   "execution_count": null,
   "id": "aaf59035",
   "metadata": {},
   "outputs": [],
   "source": [
    "ksize = (30, 10)\n",
    "img_blur = cv.blur(img_inverse, ksize)"
   ]
  },
  {
   "cell_type": "code",
   "execution_count": null,
   "id": "9a04d5a2",
   "metadata": {},
   "outputs": [],
   "source": [
    "fig = plt.figure(figsize=(15, 7))\n",
    "plt.imshow(img_inverse, cmap='gray')\n",
    "plt.show()"
   ]
  },
  {
   "cell_type": "code",
   "execution_count": null,
   "id": "dbcfb5a2",
   "metadata": {},
   "outputs": [],
   "source": [
    "img2 = data_SCROLLS['image'][image_i]"
   ]
  },
  {
   "cell_type": "code",
   "execution_count": null,
   "id": "fc68bc4a",
   "metadata": {},
   "outputs": [],
   "source": [
    "#format the image correctly\n",
    "img=255-img2\n",
    "img = img.dd\n",
    "\n",
    "fig = plt.figure(figsize=(15, 7))\n",
    "plt.imshow(img, cmap='gray')\n",
    "plt.show()"
   ]
  },
  {
   "cell_type": "code",
   "execution_count": null,
   "id": "684fbae4",
   "metadata": {},
   "outputs": [],
   "source": [
    "img_d=img.copy()\n",
    "img_grey = cv.cvtColor(img, cv.COLOR_BGR2GRAY)\n",
    "_, binary = cv.threshold(img_grey, 50, 255, cv.THRESH_BINARY)"
   ]
  },
  {
   "cell_type": "code",
   "execution_count": null,
   "id": "d3fe6b5b",
   "metadata": {},
   "outputs": [],
   "source": [
    "img = np.dstack([img, img, img])\n",
    "img=cv.resize(img, None,fx=0.5, fy=0.5)"
   ]
  },
  {
   "cell_type": "markdown",
   "id": "a92b2138",
   "metadata": {},
   "source": [
    "# Starting segmentation"
   ]
  },
  {
   "cell_type": "code",
   "execution_count": null,
   "id": "2984c66a",
   "metadata": {},
   "outputs": [],
   "source": [
    "image_test = Class_Image_Analyzed(data_SCROLLS['image'][image_i],69)"
   ]
  },
  {
   "cell_type": "code",
   "execution_count": null,
   "id": "3a38c6fe",
   "metadata": {
    "scrolled": true
   },
   "outputs": [],
   "source": [
    "image_test.LINE_ALTITUDE.shape"
   ]
  },
  {
   "cell_type": "code",
   "execution_count": null,
   "id": "db04cf74",
   "metadata": {},
   "outputs": [],
   "source": [
    "df = pd.DataFrame(data=image_test.LINE_ALTITUDE, index=CELL_IDs.astype('int32'), columns=[\"cell_id\", \"altitude\", 'latitude', 'slice'])\n",
    "\n",
    "\n"
   ]
  },
  {
   "cell_type": "code",
   "execution_count": null,
   "id": "b0a1a7d8",
   "metadata": {},
   "outputs": [],
   "source": [
    "# Structure --> To see the keys of the class\n",
    "image_test.__dict__.keys()"
   ]
  },
  {
   "cell_type": "code",
   "execution_count": null,
   "id": "887dc437",
   "metadata": {
    "scrolled": true
   },
   "outputs": [],
   "source": [
    "image_test.slices[0].__dict__.keys()"
   ]
  },
  {
   "cell_type": "code",
   "execution_count": null,
   "id": "551bdb91",
   "metadata": {},
   "outputs": [],
   "source": [
    "image_test.image.shape"
   ]
  },
  {
   "cell_type": "code",
   "execution_count": null,
   "id": "dd9bf7f8",
   "metadata": {
    "scrolled": true
   },
   "outputs": [],
   "source": [
    "image_test.cells[1].__dict__.keys()"
   ]
  },
  {
   "cell_type": "code",
   "execution_count": null,
   "id": "2a8fda14",
   "metadata": {},
   "outputs": [],
   "source": [
    "print(image_test.cells[0])"
   ]
  },
  {
   "cell_type": "code",
   "execution_count": null,
   "id": "387589c7",
   "metadata": {},
   "outputs": [],
   "source": []
  },
  {
   "cell_type": "code",
   "execution_count": null,
   "id": "4be8e7ff",
   "metadata": {},
   "outputs": [],
   "source": [
    "CELL_IDs = np.array([])\n",
    "altitude = np.array([])\n",
    "latitude = np.array([])\n",
    "slice_index = np.array([])\n",
    "\n",
    "for cell in image_test.cells:\n",
    "    CELL_IDs = np.append(CELL_IDs, image_test.cells[cell].ID)\n",
    "    altitude = np.append(altitude, image_test.cells[cell].text_line)\n",
    "    latitude = np.append(latitude, image_test.cells[cell].horizontal_index[1])\n",
    "    slice_index = np.append(slice_index, image_test.cells[cell].slice)"
   ]
  },
  {
   "cell_type": "code",
   "execution_count": null,
   "id": "54180f54",
   "metadata": {},
   "outputs": [],
   "source": [
    "numpy_data = np.vstack((CELL_IDs, altitude, latitude, slice_index))\n",
    "numpy_data = numpy_data.T"
   ]
  },
  {
   "cell_type": "code",
   "execution_count": null,
   "id": "27c88c6b",
   "metadata": {},
   "outputs": [],
   "source": [
    "numpy_data.shape"
   ]
  },
  {
   "cell_type": "code",
   "execution_count": null,
   "id": "faad553d",
   "metadata": {},
   "outputs": [],
   "source": [
    "numpy_data = numpy_data.astype('int64')"
   ]
  },
  {
   "cell_type": "code",
   "execution_count": null,
   "id": "202b57ec",
   "metadata": {},
   "outputs": [],
   "source": [
    "numpy_data"
   ]
  },
  {
   "cell_type": "code",
   "execution_count": null,
   "id": "57d49106",
   "metadata": {},
   "outputs": [],
   "source": [
    "df = pd.DataFrame(data=numpy_data, index=CELL_IDs.astype('int32'), columns=[\"cell_id\", \"altitude\", 'latitude', 'slice'])"
   ]
  },
  {
   "cell_type": "code",
   "execution_count": null,
   "id": "bc559bfd",
   "metadata": {},
   "outputs": [],
   "source": [
    "df"
   ]
  },
  {
   "cell_type": "code",
   "execution_count": null,
   "id": "e35cbe94",
   "metadata": {},
   "outputs": [],
   "source": [
    "df['score']= df['altitude']*df['altitude']*df['latitude']"
   ]
  },
  {
   "cell_type": "code",
   "execution_count": null,
   "id": "087bc22a",
   "metadata": {},
   "outputs": [],
   "source": [
    "df2 = df.sort_values(by=['score'], ascending=True)"
   ]
  },
  {
   "cell_type": "code",
   "execution_count": null,
   "id": "8fff6d22",
   "metadata": {},
   "outputs": [],
   "source": []
  },
  {
   "cell_type": "markdown",
   "id": "9d93eab4",
   "metadata": {},
   "source": [
    "### Line class"
   ]
  },
  {
   "cell_type": "code",
   "execution_count": null,
   "id": "b9deb281",
   "metadata": {},
   "outputs": [],
   "source": [
    "import matplotlib.pyplot as plt"
   ]
  },
  {
   "cell_type": "code",
   "execution_count": null,
   "id": "84ea2d48",
   "metadata": {},
   "outputs": [],
   "source": [
    "image_test.line[0].__dict__.keys()"
   ]
  },
  {
   "cell_type": "code",
   "execution_count": null,
   "id": "413298ca",
   "metadata": {},
   "outputs": [],
   "source": [
    "plt.imshow(image_test.line[3].image,cmap='gray')\n",
    "plt.show()"
   ]
  },
  {
   "cell_type": "code",
   "execution_count": null,
   "id": "cefff17c",
   "metadata": {},
   "outputs": [],
   "source": [
    "image_test.line[3].image.shape"
   ]
  },
  {
   "cell_type": "code",
   "execution_count": null,
   "id": "7f16d3d3",
   "metadata": {
    "scrolled": false
   },
   "outputs": [],
   "source": [
    "image_test.line[13].Plot_line()"
   ]
  },
  {
   "cell_type": "markdown",
   "id": "fcedb6bf",
   "metadata": {},
   "source": [
    "## "
   ]
  }
 ],
 "metadata": {
  "kernelspec": {
   "display_name": "Python 3 (ipykernel)",
   "language": "python",
   "name": "python3"
  },
  "language_info": {
   "codemirror_mode": {
    "name": "ipython",
    "version": 3
   },
   "file_extension": ".py",
   "mimetype": "text/x-python",
   "name": "python",
   "nbconvert_exporter": "python",
   "pygments_lexer": "ipython3",
   "version": "3.8.2"
  }
 },
 "nbformat": 4,
 "nbformat_minor": 5
}
