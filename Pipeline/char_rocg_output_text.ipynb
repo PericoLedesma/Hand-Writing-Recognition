{
 "cells": [
  {
   "cell_type": "markdown",
   "id": "6b3fdb6b",
   "metadata": {},
   "source": [
    "# prediction"
   ]
  },
  {
   "cell_type": "code",
   "execution_count": 1,
   "id": "f5883a0b",
   "metadata": {},
   "outputs": [
    {
     "ename": "ModuleNotFoundError",
     "evalue": "No module named 'tensorflow'",
     "output_type": "error",
     "traceback": [
      "\u001b[1;31m---------------------------------------------------------------------------\u001b[0m",
      "\u001b[1;31mModuleNotFoundError\u001b[0m                       Traceback (most recent call last)",
      "\u001b[1;32m<ipython-input-1-95fbf95d40cf>\u001b[0m in \u001b[0;36m<module>\u001b[1;34m\u001b[0m\n\u001b[1;32m----> 1\u001b[1;33m \u001b[1;32mfrom\u001b[0m \u001b[0mtensorflow\u001b[0m\u001b[1;33m.\u001b[0m\u001b[0mkeras\u001b[0m\u001b[1;33m.\u001b[0m\u001b[0mmodels\u001b[0m \u001b[1;32mimport\u001b[0m \u001b[0mload_model\u001b[0m\u001b[1;33m\u001b[0m\u001b[1;33m\u001b[0m\u001b[0m\n\u001b[0m\u001b[0;32m      2\u001b[0m \u001b[1;32mimport\u001b[0m \u001b[0mcv2\u001b[0m \u001b[1;32mas\u001b[0m \u001b[0mcv\u001b[0m\u001b[1;33m\u001b[0m\u001b[1;33m\u001b[0m\u001b[0m\n\u001b[0;32m      3\u001b[0m \u001b[1;32mimport\u001b[0m \u001b[0mnumpy\u001b[0m \u001b[1;32mas\u001b[0m \u001b[0mnp\u001b[0m\u001b[1;33m\u001b[0m\u001b[1;33m\u001b[0m\u001b[0m\n\u001b[0;32m      4\u001b[0m \u001b[1;33m\u001b[0m\u001b[0m\n\u001b[0;32m      5\u001b[0m \u001b[1;32mdef\u001b[0m \u001b[0mimg_pre_process\u001b[0m\u001b[1;33m(\u001b[0m\u001b[0mimg\u001b[0m\u001b[1;33m)\u001b[0m\u001b[1;33m:\u001b[0m\u001b[1;33m\u001b[0m\u001b[1;33m\u001b[0m\u001b[0m\n",
      "\u001b[1;31mModuleNotFoundError\u001b[0m: No module named 'tensorflow'"
     ]
    }
   ],
   "source": [
    "from tensorflow.keras.models import load_model\n",
    "import cv2 as cv\n",
    "import numpy as np\n",
    "\n",
    "def img_pre_process(img):\n",
    "    # Turn the picture into a square\n",
    "    s = max(img.shape[0:2])\n",
    "    f = np.ones((s,s,3),np.uint8)*255\n",
    "    ax,ay = (s - img.shape[1])//2,(s - img.shape[0])//2\n",
    "    f[ay:img.shape[0]+ay,ax:ax+img.shape[1]] = img\n",
    "    return f\n",
    "\n",
    "def char_recog(model,img):\n",
    "    '''\n",
    "    model: the loaded model\n",
    "    img: the bgr character img.\n",
    "    '''\n",
    "    img = img_pre_process(img)\n",
    "    img=cv.resize(img,(50,50), interpolation=cv.INTER_LANCZOS4)\n",
    "    img=img/255\n",
    "    yy = model.predict(img.reshape(1,50,50,3))[0]\n",
    "    lb_pre=letters[np.argmax(yy)]\n",
    "    return lb_pre\n",
    "\n",
    "letters=['Alef', 'Ayin', 'Bet','Dalet','Gimel','He','Het','Kaf','Kaf-final', 'Lamed','Mem', 'Mem-medial', 'Nun-final',\n",
    "       'Nun-medial', 'Pe', 'Pe-final', 'Qof','Resh','Samekh','Shin','Taw','Tet','Tsadi-final','Tsadi-medial',\n",
    "       'Waw','Yod','Zayin']\n",
    "model=load_model(\"task3_model/CR_adam_monk1.hdf5\")\n",
    "img=cv.imread('./small5.png')\n",
    "lb_pre=char_recog(model,img)\n",
    "lb_pre"
   ]
  },
  {
   "cell_type": "markdown",
   "id": "cb7a6dc0",
   "metadata": {},
   "source": [
    "# output "
   ]
  },
  {
   "cell_type": "code",
   "execution_count": 12,
   "id": "4061c9d9",
   "metadata": {},
   "outputs": [],
   "source": [
    "from docx import Document\n",
    "from docx.oxml.ns import qn\n",
    "from docx.shared import Pt,RGBColor\n",
    "from docx.enum.text import WD_ALIGN_PARAGRAPH\n",
    "\n",
    "\n",
    "def output_doc(texts, name):\n",
    "    '''\n",
    "    texts: the text list. e.g. [[ab],[cd]]. [ab] is the first line\n",
    "    name: the name of the img without format (e.g. '.jpg').\n",
    "    '''  \n",
    "    document = Document()\n",
    "    document.styles['Normal'].font.name = u'Habbakuk'\n",
    "    document.styles['Normal'].font.size = Pt(12)\n",
    "    document.styles['Normal'].font.color.rgb = RGBColor(0,0,0)\n",
    "    for i in range(len(texts)):\n",
    "        line=texts[i]\n",
    "        if line==['#']:\n",
    "            doc_line=document.add_paragraph('')\n",
    "        else:\n",
    "            if (i==0) & (len(line[0])==1):\n",
    "                continue\n",
    "            doc_line=document.add_paragraph(line)\n",
    "        doc_line.paragraph_format.alignment= WD_ALIGN_PARAGRAPH.RIGHT\n",
    "    document.save(name+'.docx')\n",
    "    print(name+'.docx'+\" generated!!!\")\n",
    "\n",
    "def output_txt(texts, name):\n",
    "    '''\n",
    "    texts: the text list. e.g. [[ab],[cd]]. [ab] is the first line\n",
    "    name: the name of the img without format (e.g. '.jpg').\n",
    "    '''  \n",
    "    with open(name+'.txt','wb') as f:\n",
    "        for i in range(len(texts)):\n",
    "            line=texts[i][0]\n",
    "            if line=='#':\n",
    "                f.write(str('\\n').encode(encoding='utf-8'))\n",
    "            else:\n",
    "                f.write(str(line + '\\n').encode(encoding='utf-8'))\n",
    "    f.close()\n",
    "    print(name+'.txt'+\" generated!!!\")"
   ]
  },
  {
   "cell_type": "code",
   "execution_count": 19,
   "id": "f7278bc9",
   "metadata": {},
   "outputs": [
    {
     "name": "stdout",
     "output_type": "stream",
     "text": [
      "[[')'], [')('], ['#'], ['(b'], ['bd']]\n",
      "asda.docx generated!!!\n",
      "asda.txt generated!!!\n"
     ]
    }
   ],
   "source": [
    "letters=['Alef', 'Ayin', 'Bet','Dalet','Gimel','He','Het','Kaf','Kaf-final', 'Lamed','Mem', 'Mem-medial', 'Nun-final',\n",
    "       'Nun-medial', 'Pe', 'Pe-final', 'Qof','Resh','Samekh','Shin','Taw','Tet','Tsadi-final','Tsadi-medial',\n",
    "       'Waw','Yod','Zayin']\n",
    "char_map = {'Alef':')','Ayin':'(','Bet':'b','Dalet':'d','Gimel':'g','He':'x','Het':'h', \n",
    "            'Kaf':'k','Kaf-final':'\\\\','Lamed':'l', 'Mem':'{','Mem-medial':'m','Nun-final':'}', \n",
    "            'Nun-medial':'n','Pe':'p','Pe-final':'v', 'Qof':'q','Resh':'r','Samekh':'s', \n",
    "            'Shin' : '$','Taw':'t','Tet':'+','Tsadi-final':'j','Tsadi-medial':'c', 'Waw':'w', \n",
    "            'Yod':'y','Zayin':'z'}\n",
    "texts=[[char_map[letters[0]]],\n",
    "      [char_map[letters[0]]+char_map[letters[1]]],\n",
    "       ['#'],\n",
    "      [char_map[letters[1]]+char_map[letters[2]]],\n",
    "      [char_map[letters[2]]+char_map[letters[3]]]]\n",
    "print(texts)\n",
    "output_doc(texts, name='asda')\n",
    "output_txt(texts, name='asda')"
   ]
  },
  {
   "cell_type": "code",
   "execution_count": 7,
   "id": "86c6de17",
   "metadata": {},
   "outputs": [
    {
     "data": {
      "text/plain": [
       "')('"
      ]
     },
     "execution_count": 7,
     "metadata": {},
     "output_type": "execute_result"
    }
   ],
   "source": [
    "texts[0][0]"
   ]
  },
  {
   "cell_type": "code",
   "execution_count": null,
   "id": "f76dc442",
   "metadata": {},
   "outputs": [],
   "source": []
  }
 ],
 "metadata": {
  "kernelspec": {
   "display_name": "Python 3 (ipykernel)",
   "language": "python",
   "name": "python3"
  },
  "language_info": {
   "codemirror_mode": {
    "name": "ipython",
    "version": 3
   },
   "file_extension": ".py",
   "mimetype": "text/x-python",
   "name": "python",
   "nbconvert_exporter": "python",
   "pygments_lexer": "ipython3",
   "version": "3.8.8"
  }
 },
 "nbformat": 4,
 "nbformat_minor": 5
}
